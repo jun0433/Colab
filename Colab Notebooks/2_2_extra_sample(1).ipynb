{
  "cells": [
    {
      "cell_type": "markdown",
      "metadata": {
        "id": "puXBKsKJcBls"
      },
      "source": [
        "**잘못된 높은 학습률로 MNIST 모델 훈련하기**"
      ]
    },
    {
      "cell_type": "code",
      "execution_count": null,
      "metadata": {
        "execution": {
          "iopub.execute_input": "2022-05-21T01:05:33.177460Z",
          "iopub.status.busy": "2022-05-21T01:05:33.177117Z",
          "iopub.status.idle": "2022-05-21T01:05:52.585061Z",
          "shell.execute_reply": "2022-05-21T01:05:52.584241Z"
        },
        "id": "SH73tJSEcBlt",
        "outputId": "521bdd48-78e1-46f5-92b5-140ea82b2c9f",
        "colab": {
          "base_uri": "https://localhost:8080/"
        }
      },
      "outputs": [
        {
          "output_type": "stream",
          "name": "stdout",
          "text": [
            "Epoch 1/10\n",
            "375/375 [==============================] - 3s 6ms/step - loss: 1127.5515 - accuracy: 0.3523 - val_loss: 3.3003 - val_accuracy: 0.2025\n",
            "Epoch 2/10\n",
            "375/375 [==============================] - 2s 6ms/step - loss: 7.4406 - accuracy: 0.2134 - val_loss: 2.2505 - val_accuracy: 0.2157\n",
            "Epoch 3/10\n",
            "375/375 [==============================] - 2s 6ms/step - loss: 3.0351 - accuracy: 0.2126 - val_loss: 2.5602 - val_accuracy: 0.2345\n",
            "Epoch 4/10\n",
            "375/375 [==============================] - 2s 6ms/step - loss: 2.6031 - accuracy: 0.2180 - val_loss: 2.3286 - val_accuracy: 0.1917\n",
            "Epoch 5/10\n",
            "375/375 [==============================] - 2s 6ms/step - loss: 2.7988 - accuracy: 0.2181 - val_loss: 2.1038 - val_accuracy: 0.2280\n",
            "Epoch 6/10\n",
            "375/375 [==============================] - 2s 6ms/step - loss: 2.4050 - accuracy: 0.2310 - val_loss: 2.0748 - val_accuracy: 0.2311\n",
            "Epoch 7/10\n",
            "375/375 [==============================] - 2s 6ms/step - loss: 2.2445 - accuracy: 0.2234 - val_loss: 3.6207 - val_accuracy: 0.2492\n",
            "Epoch 8/10\n",
            "375/375 [==============================] - 2s 6ms/step - loss: 2.4699 - accuracy: 0.2335 - val_loss: 2.2358 - val_accuracy: 0.2359\n",
            "Epoch 9/10\n",
            "375/375 [==============================] - 2s 6ms/step - loss: 2.3378 - accuracy: 0.2560 - val_loss: 2.3308 - val_accuracy: 0.2252\n",
            "Epoch 10/10\n",
            "375/375 [==============================] - 2s 6ms/step - loss: 2.3152 - accuracy: 0.2207 - val_loss: 2.0716 - val_accuracy: 0.2041\n"
          ]
        },
        {
          "output_type": "execute_result",
          "data": {
            "text/plain": [
              "<keras.callbacks.History at 0x7f9599892590>"
            ]
          },
          "metadata": {},
          "execution_count": 4
        }
      ],
      "source": [
        "from tensorflow import keras\n",
        "from tensorflow.keras import layers\n",
        "from tensorflow.keras.datasets import mnist\n",
        "import numpy as np\n",
        "\n",
        "(train_images, train_labels), _ = mnist.load_data()\n",
        "train_images = train_images.reshape((60000, 28 * 28))\n",
        "train_images = train_images.astype(\"float32\") / 255\n",
        "\n",
        "model = keras.Sequential([\n",
        "    layers.Dense(512, activation=\"relu\"),\n",
        "    layers.Dense(10, activation=\"softmax\")\n",
        "])\n",
        "model.compile(optimizer=keras.optimizers.RMSprop(1.),\n",
        "              loss=\"sparse_categorical_crossentropy\",\n",
        "              metrics=[\"accuracy\"])\n",
        "model.fit(train_images, train_labels,\n",
        "          epochs=10,\n",
        "          batch_size=128,\n",
        "          validation_split=0.2)"
      ]
    },
    {
      "cell_type": "markdown",
      "metadata": {
        "id": "0p17RssmcBlt"
      },
      "source": [
        "**같은 모델을 적절한 학습률로 훈련하기**"
      ]
    },
    {
      "cell_type": "code",
      "execution_count": null,
      "metadata": {
        "execution": {
          "iopub.execute_input": "2022-05-21T01:05:52.588549Z",
          "iopub.status.busy": "2022-05-21T01:05:52.588260Z",
          "iopub.status.idle": "2022-05-21T01:06:11.526008Z",
          "shell.execute_reply": "2022-05-21T01:06:11.525112Z"
        },
        "id": "Rspb1IaycBlt",
        "outputId": "8aad10db-9d7d-49a2-af6d-2e9e2c4787c9",
        "colab": {
          "base_uri": "https://localhost:8080/"
        }
      },
      "outputs": [
        {
          "output_type": "stream",
          "name": "stdout",
          "text": [
            "Epoch 1/10\n",
            "375/375 [==============================] - 3s 6ms/step - loss: 0.3781 - accuracy: 0.9133 - val_loss: 0.1842 - val_accuracy: 0.9520\n",
            "Epoch 2/10\n",
            "375/375 [==============================] - 2s 6ms/step - loss: 0.1398 - accuracy: 0.9645 - val_loss: 0.1578 - val_accuracy: 0.9643\n",
            "Epoch 3/10\n",
            "375/375 [==============================] - 2s 6ms/step - loss: 0.1126 - accuracy: 0.9744 - val_loss: 0.2278 - val_accuracy: 0.9597\n",
            "Epoch 4/10\n",
            "375/375 [==============================] - 2s 6ms/step - loss: 0.1036 - accuracy: 0.9778 - val_loss: 0.1767 - val_accuracy: 0.9697\n",
            "Epoch 5/10\n",
            "375/375 [==============================] - 2s 6ms/step - loss: 0.0911 - accuracy: 0.9819 - val_loss: 0.2398 - val_accuracy: 0.9689\n",
            "Epoch 6/10\n",
            "375/375 [==============================] - 2s 6ms/step - loss: 0.0819 - accuracy: 0.9836 - val_loss: 0.2405 - val_accuracy: 0.9700\n",
            "Epoch 7/10\n",
            "375/375 [==============================] - 2s 6ms/step - loss: 0.0741 - accuracy: 0.9864 - val_loss: 0.2227 - val_accuracy: 0.9748\n",
            "Epoch 8/10\n",
            "375/375 [==============================] - 2s 6ms/step - loss: 0.0681 - accuracy: 0.9877 - val_loss: 0.2927 - val_accuracy: 0.9726\n",
            "Epoch 9/10\n",
            "375/375 [==============================] - 2s 6ms/step - loss: 0.0614 - accuracy: 0.9894 - val_loss: 0.2768 - val_accuracy: 0.9729\n",
            "Epoch 10/10\n",
            "375/375 [==============================] - 2s 6ms/step - loss: 0.0571 - accuracy: 0.9900 - val_loss: 0.2981 - val_accuracy: 0.9733\n"
          ]
        },
        {
          "output_type": "execute_result",
          "data": {
            "text/plain": [
              "<keras.callbacks.History at 0x7f95997dbd10>"
            ]
          },
          "metadata": {},
          "execution_count": 5
        }
      ],
      "source": [
        "model = keras.Sequential([\n",
        "    layers.Dense(512, activation=\"relu\"),\n",
        "    layers.Dense(10, activation=\"softmax\")\n",
        "])\n",
        "model.compile(optimizer=keras.optimizers.RMSprop(1e-2),\n",
        "              loss=\"sparse_categorical_crossentropy\",\n",
        "              metrics=[\"accuracy\"])\n",
        "model.fit(train_images, train_labels,\n",
        "          epochs=10,\n",
        "          batch_size=128,\n",
        "          validation_split=0.2)"
      ]
    },
    {
      "cell_type": "markdown",
      "metadata": {
        "id": "7GaESL9WcBlt"
      },
      "source": [
        "### 구조에 대해 더 나은 가정하기"
      ]
    },
    {
      "cell_type": "markdown",
      "metadata": {
        "id": "dZs31JJucBlu"
      },
      "source": [
        "### 모델 용량 늘리기"
      ]
    },
    {
      "cell_type": "markdown",
      "metadata": {
        "id": "bUK5YwlZcBlu"
      },
      "source": [
        "**MNIST 데이터를 사용한 간단한 로지스틱 회귀 모델**"
      ]
    },
    {
      "cell_type": "code",
      "execution_count": null,
      "metadata": {
        "execution": {
          "iopub.execute_input": "2022-05-21T01:06:11.530131Z",
          "iopub.status.busy": "2022-05-21T01:06:11.529560Z",
          "iopub.status.idle": "2022-05-21T01:06:25.955536Z",
          "shell.execute_reply": "2022-05-21T01:06:25.954654Z"
        },
        "id": "6hltWNMicBlu",
        "outputId": "c8388a22-accd-4935-bb5d-d8d4ae0d8215"
      },
      "outputs": [
        {
          "name": "stdout",
          "output_type": "stream",
          "text": [
            "Epoch 1/20\n",
            "375/375 [==============================] - 1s 2ms/step - loss: 0.6708 - accuracy: 0.8349 - val_loss: 0.3596 - val_accuracy: 0.9038\n",
            "Epoch 2/20\n",
            "375/375 [==============================] - 1s 2ms/step - loss: 0.3522 - accuracy: 0.9026 - val_loss: 0.3089 - val_accuracy: 0.9152\n",
            "Epoch 3/20\n",
            "375/375 [==============================] - 1s 2ms/step - loss: 0.3162 - accuracy: 0.9117 - val_loss: 0.2901 - val_accuracy: 0.9185\n",
            "Epoch 4/20\n",
            "375/375 [==============================] - 1s 2ms/step - loss: 0.2998 - accuracy: 0.9163 - val_loss: 0.2812 - val_accuracy: 0.9196\n",
            "Epoch 5/20\n",
            "375/375 [==============================] - 1s 2ms/step - loss: 0.2903 - accuracy: 0.9187 - val_loss: 0.2749 - val_accuracy: 0.9236\n",
            "Epoch 6/20\n",
            "375/375 [==============================] - 1s 2ms/step - loss: 0.2835 - accuracy: 0.9206 - val_loss: 0.2741 - val_accuracy: 0.9244\n",
            "Epoch 7/20\n",
            "375/375 [==============================] - 1s 2ms/step - loss: 0.2782 - accuracy: 0.9227 - val_loss: 0.2694 - val_accuracy: 0.9246\n",
            "Epoch 8/20\n",
            "375/375 [==============================] - 1s 2ms/step - loss: 0.2743 - accuracy: 0.9235 - val_loss: 0.2668 - val_accuracy: 0.9261\n",
            "Epoch 9/20\n",
            "375/375 [==============================] - 1s 2ms/step - loss: 0.2717 - accuracy: 0.9245 - val_loss: 0.2640 - val_accuracy: 0.9283\n",
            "Epoch 10/20\n",
            "375/375 [==============================] - 1s 2ms/step - loss: 0.2691 - accuracy: 0.9253 - val_loss: 0.2647 - val_accuracy: 0.9278\n",
            "Epoch 11/20\n",
            "375/375 [==============================] - 1s 2ms/step - loss: 0.2673 - accuracy: 0.9256 - val_loss: 0.2628 - val_accuracy: 0.9281\n",
            "Epoch 12/20\n",
            "375/375 [==============================] - 1s 2ms/step - loss: 0.2650 - accuracy: 0.9270 - val_loss: 0.2633 - val_accuracy: 0.9286\n",
            "Epoch 13/20\n",
            "375/375 [==============================] - 1s 2ms/step - loss: 0.2633 - accuracy: 0.9273 - val_loss: 0.2617 - val_accuracy: 0.9301\n",
            "Epoch 14/20\n",
            "375/375 [==============================] - 1s 2ms/step - loss: 0.2619 - accuracy: 0.9279 - val_loss: 0.2622 - val_accuracy: 0.9293\n",
            "Epoch 15/20\n",
            "375/375 [==============================] - 1s 2ms/step - loss: 0.2602 - accuracy: 0.9284 - val_loss: 0.2625 - val_accuracy: 0.9291\n",
            "Epoch 16/20\n",
            "375/375 [==============================] - 1s 2ms/step - loss: 0.2594 - accuracy: 0.9284 - val_loss: 0.2609 - val_accuracy: 0.9303\n",
            "Epoch 17/20\n",
            "375/375 [==============================] - 1s 2ms/step - loss: 0.2583 - accuracy: 0.9288 - val_loss: 0.2607 - val_accuracy: 0.9299\n",
            "Epoch 18/20\n",
            "375/375 [==============================] - 1s 2ms/step - loss: 0.2573 - accuracy: 0.9298 - val_loss: 0.2597 - val_accuracy: 0.9307\n",
            "Epoch 19/20\n",
            "375/375 [==============================] - 1s 2ms/step - loss: 0.2566 - accuracy: 0.9296 - val_loss: 0.2610 - val_accuracy: 0.9299\n",
            "Epoch 20/20\n",
            "375/375 [==============================] - 1s 2ms/step - loss: 0.2556 - accuracy: 0.9301 - val_loss: 0.2597 - val_accuracy: 0.9310\n"
          ]
        }
      ],
      "source": [
        "model = keras.Sequential([layers.Dense(10, activation=\"softmax\")])\n",
        "model.compile(optimizer=\"rmsprop\",\n",
        "              loss=\"sparse_categorical_crossentropy\",\n",
        "              metrics=[\"accuracy\"])\n",
        "history_small_model = model.fit(\n",
        "    train_images, train_labels,\n",
        "    epochs=20,\n",
        "    batch_size=128,\n",
        "    validation_split=0.2)"
      ]
    },
    {
      "cell_type": "code",
      "execution_count": null,
      "metadata": {
        "execution": {
          "iopub.execute_input": "2022-05-21T01:06:25.959685Z",
          "iopub.status.busy": "2022-05-21T01:06:25.959399Z",
          "iopub.status.idle": "2022-05-21T01:06:26.277516Z",
          "shell.execute_reply": "2022-05-21T01:06:26.276506Z"
        },
        "id": "71Z8ErA6cBlu",
        "outputId": "1588cf51-c6d5-4d3e-de46-7920ada856a6"
      },
      "outputs": [
        {
          "data": {
            "image/png": "[encoded data removed]",
            "text/plain": [
              "<Figure size 432x288 with 1 Axes>"
            ]
          },
          "metadata": {
            "needs_background": "light"
          },
          "output_type": "display_data"
        }
      ],
      "source": [
        "import matplotlib.pyplot as plt\n",
        "val_loss = history_small_model.history[\"val_loss\"]\n",
        "epochs = range(1, 21)\n",
        "plt.plot(epochs, val_loss, \"b--\",\n",
        "         label=\"Validation loss\")\n",
        "plt.title(\"Effect of insufficient model capacity on validation loss\")\n",
        "plt.xlabel(\"Epochs\")\n",
        "plt.ylabel(\"Loss\")\n",
        "plt.legend()\n",
        "plt.show()"
      ]
    },
    {
      "cell_type": "code",
      "execution_count": null,
      "metadata": {
        "execution": {
          "iopub.execute_input": "2022-05-21T01:06:26.281161Z",
          "iopub.status.busy": "2022-05-21T01:06:26.280863Z",
          "iopub.status.idle": "2022-05-21T01:06:48.235589Z",
          "shell.execute_reply": "2022-05-21T01:06:48.234644Z"
        },
        "id": "2B1VkaM-cBlu",
        "outputId": "5bc678a1-de67-4a8b-b933-be7821cbe707"
      },
      "outputs": [
        {
          "name": "stdout",
          "output_type": "stream",
          "text": [
            "Epoch 1/20\n",
            "375/375 [==============================] - 2s 3ms/step - loss: 0.3613 - accuracy: 0.8980 - val_loss: 0.2050 - val_accuracy: 0.9401\n",
            "Epoch 2/20\n",
            "375/375 [==============================] - 1s 3ms/step - loss: 0.1603 - accuracy: 0.9523 - val_loss: 0.1302 - val_accuracy: 0.9623\n",
            "Epoch 3/20\n",
            "375/375 [==============================] - 1s 3ms/step - loss: 0.1145 - accuracy: 0.9659 - val_loss: 0.1135 - val_accuracy: 0.9668\n",
            "Epoch 4/20\n",
            "375/375 [==============================] - 1s 3ms/step - loss: 0.0876 - accuracy: 0.9737 - val_loss: 0.1044 - val_accuracy: 0.9691\n",
            "Epoch 5/20\n",
            "375/375 [==============================] - 1s 3ms/step - loss: 0.0710 - accuracy: 0.9789 - val_loss: 0.1364 - val_accuracy: 0.9583\n",
            "Epoch 6/20\n",
            "375/375 [==============================] - 1s 3ms/step - loss: 0.0581 - accuracy: 0.9821 - val_loss: 0.1086 - val_accuracy: 0.9691\n",
            "Epoch 7/20\n",
            "375/375 [==============================] - 1s 3ms/step - loss: 0.0483 - accuracy: 0.9853 - val_loss: 0.0935 - val_accuracy: 0.9746\n",
            "Epoch 8/20\n",
            "375/375 [==============================] - 1s 3ms/step - loss: 0.0404 - accuracy: 0.9875 - val_loss: 0.0910 - val_accuracy: 0.9737\n",
            "Epoch 9/20\n",
            "375/375 [==============================] - 1s 3ms/step - loss: 0.0329 - accuracy: 0.9896 - val_loss: 0.0982 - val_accuracy: 0.9753\n",
            "Epoch 10/20\n",
            "375/375 [==============================] - 1s 3ms/step - loss: 0.0281 - accuracy: 0.9914 - val_loss: 0.0983 - val_accuracy: 0.9759\n",
            "Epoch 11/20\n",
            "375/375 [==============================] - 1s 3ms/step - loss: 0.0231 - accuracy: 0.9931 - val_loss: 0.1004 - val_accuracy: 0.9768\n",
            "Epoch 12/20\n",
            "375/375 [==============================] - 1s 3ms/step - loss: 0.0209 - accuracy: 0.9935 - val_loss: 0.1194 - val_accuracy: 0.9718\n",
            "Epoch 13/20\n",
            "375/375 [==============================] - 1s 3ms/step - loss: 0.0178 - accuracy: 0.9943 - val_loss: 0.1086 - val_accuracy: 0.9748\n",
            "Epoch 14/20\n",
            "375/375 [==============================] - 1s 3ms/step - loss: 0.0145 - accuracy: 0.9953 - val_loss: 0.1157 - val_accuracy: 0.9734\n",
            "Epoch 15/20\n",
            "375/375 [==============================] - 1s 3ms/step - loss: 0.0118 - accuracy: 0.9962 - val_loss: 0.1185 - val_accuracy: 0.9755\n",
            "Epoch 16/20\n",
            "375/375 [==============================] - 1s 3ms/step - loss: 0.0107 - accuracy: 0.9966 - val_loss: 0.1231 - val_accuracy: 0.9749\n",
            "Epoch 17/20\n",
            "375/375 [==============================] - 1s 3ms/step - loss: 0.0093 - accuracy: 0.9972 - val_loss: 0.1310 - val_accuracy: 0.9748\n",
            "Epoch 18/20\n",
            "375/375 [==============================] - 1s 3ms/step - loss: 0.0074 - accuracy: 0.9976 - val_loss: 0.1318 - val_accuracy: 0.9745\n",
            "Epoch 19/20\n",
            "375/375 [==============================] - 1s 3ms/step - loss: 0.0071 - accuracy: 0.9977 - val_loss: 0.1499 - val_accuracy: 0.9730\n",
            "Epoch 20/20\n",
            "375/375 [==============================] - 1s 3ms/step - loss: 0.0052 - accuracy: 0.9985 - val_loss: 0.1514 - val_accuracy: 0.9741\n"
          ]
        }
      ],
      "source": [
        "model = keras.Sequential([\n",
        "    layers.Dense(96, activation=\"relu\"),\n",
        "    layers.Dense(96, activation=\"relu\"),\n",
        "    layers.Dense(10, activation=\"softmax\"),\n",
        "])\n",
        "model.compile(optimizer=\"rmsprop\",\n",
        "              loss=\"sparse_categorical_crossentropy\",\n",
        "              metrics=[\"accuracy\"])\n",
        "history_large_model = model.fit(\n",
        "    train_images, train_labels,\n",
        "    epochs=20,\n",
        "    batch_size=128,\n",
        "    validation_split=0.2)"
      ]
    }
  ],
  "metadata": {
    "colab": {
      "collapsed_sections": [],
      "provenance": []
    },
    "kernelspec": {
      "display_name": "default:Python",
      "language": "python",
      "name": "conda-env-default-py"
    },
    "language_info": {
      "codemirror_mode": {
        "name": "ipython",
        "version": 3
      },
      "file_extension": ".py",
      "mimetype": "text/x-python",
      "name": "python",
      "nbconvert_exporter": "python",
      "pygments_lexer": "ipython3",
      "version": "3.9.10"
    }
  },
  "nbformat": 4,
  "nbformat_minor": 0
}